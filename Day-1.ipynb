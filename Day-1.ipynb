{
 "cells": [
  {
   "cell_type": "markdown",
   "id": "4c59ddd0-7f51-4b66-bc42-c848d011d795",
   "metadata": {},
   "source": [
    "# Python Notebook -Day 1"
   ]
  },
  {
   "cell_type": "markdown",
   "id": "eacdd9d8-56d9-4338-9818-abe54901a6ae",
   "metadata": {},
   "source": [
    "## print() function"
   ]
  },
  {
   "cell_type": "markdown",
   "id": "670f9ec1-f855-47d1-b7b2-6c09c006a2b6",
   "metadata": {},
   "source": [
    "We use the print() function to output data to the standard output device (screen)."
   ]
  },
  {
   "cell_type": "code",
   "execution_count": 1,
   "id": "76710a7a-1a71-46b5-963e-07ab4721ad85",
   "metadata": {},
   "outputs": [
    {
     "name": "stdout",
     "output_type": "stream",
     "text": [
      "Hello, World!\n"
     ]
    }
   ],
   "source": [
    "print (\"Hello, World!\")"
   ]
  },
  {
   "cell_type": "markdown",
   "id": "9da86254-07bf-41ab-bf49-23b9622f7492",
   "metadata": {},
   "source": [
    "String is sets of character. We can also print like this by separating string"
   ]
  },
  {
   "cell_type": "code",
   "execution_count": 2,
   "id": "45fc2267-5b37-4d9e-a195-e0b0cd67ebdf",
   "metadata": {},
   "outputs": [
    {
     "name": "stdout",
     "output_type": "stream",
     "text": [
      "Hello, World! This is Raihan's Notebook.\n"
     ]
    }
   ],
   "source": [
    "print (\"Hello, World!\", \"This is Raihan's Notebook.\")"
   ]
  },
  {
   "cell_type": "code",
   "execution_count": 3,
   "id": "58fc4295-925d-49a5-b0af-927d0ea854e6",
   "metadata": {},
   "outputs": [
    {
     "name": "stdout",
     "output_type": "stream",
     "text": [
      "Hello, World!&This is Raihan's Notebook.|"
     ]
    }
   ],
   "source": [
    "print (\"Hello, World!\", \"This is Raihan's Notebook.\", sep=\"&\", end=\"|\") #shift+tab"
   ]
  },
  {
   "cell_type": "markdown",
   "id": "b697719e-c2bd-4185-a9b7-018c04d126f0",
   "metadata": {},
   "source": [
    "## Variable"
   ]
  },
  {
   "cell_type": "code",
   "execution_count": 4,
   "id": "d2896720-59bd-4d99-b12b-12b9fa5c8f6b",
   "metadata": {},
   "outputs": [],
   "source": [
    "# • Variables are like a container to storing data.\n",
    "# • Compare to Other programming languages, Python has no command for declaring a variable.\n",
    "# • A variable is created the moment you first assign a value to it.\n",
    "# # Example:\n",
    "# Var = 10\n",
    "# Var2 = 100\n",
    "# Example:\n",
    "# Var = 'data science'\n",
    "# Var2 = 'Raihan Raaz'"
   ]
  },
  {
   "cell_type": "code",
   "execution_count": 5,
   "id": "83f7accf-afe4-48f0-b8c2-87171113dec8",
   "metadata": {},
   "outputs": [
    {
     "name": "stdout",
     "output_type": "stream",
     "text": [
      "Raihan Raaz\n",
      "var\n"
     ]
    }
   ],
   "source": [
    "var = 'Raihan Raaz'\n",
    "print (var) #print variable [no '' ]\n",
    "print ('var') #print string [with '']"
   ]
  },
  {
   "cell_type": "code",
   "execution_count": 6,
   "id": "d3864b69-3948-4fb1-bfa2-df9dac5b31ef",
   "metadata": {},
   "outputs": [
    {
     "name": "stdout",
     "output_type": "stream",
     "text": [
      "My Name is Raihan Raaz\n"
     ]
    }
   ],
   "source": [
    "print ('My Name is '+var)"
   ]
  },
  {
   "cell_type": "markdown",
   "id": "f8bca79a-6e26-4bc1-ba45-c62c107e3a19",
   "metadata": {},
   "source": [
    "Variable is a container where we can store data. to see the memory location:"
   ]
  },
  {
   "cell_type": "code",
   "execution_count": 7,
   "id": "5579bf52-a94c-4085-a6be-78eecb75e2a1",
   "metadata": {},
   "outputs": [
    {
     "data": {
      "text/plain": [
       "2349828040688"
      ]
     },
     "execution_count": 7,
     "metadata": {},
     "output_type": "execute_result"
    }
   ],
   "source": [
    "id(var)"
   ]
  },
  {
   "cell_type": "code",
   "execution_count": 8,
   "id": "3c907cad-fd1e-4a8a-8921-c184c13a9a22",
   "metadata": {},
   "outputs": [],
   "source": [
    "# to see how many bytes takes this variable:\n",
    "# import sys\n",
    "# sys — System-specific parameters and functions\n",
    "# This module provides access to some variables used or maintained by the interpreter and to functions that interact strongly with the interpreter. "
   ]
  },
  {
   "cell_type": "code",
   "execution_count": 9,
   "id": "007aa14d-6630-41a8-a653-3a931cfa81dc",
   "metadata": {},
   "outputs": [
    {
     "data": {
      "text/plain": [
       "60"
      ]
     },
     "execution_count": 9,
     "metadata": {},
     "output_type": "execute_result"
    }
   ],
   "source": [
    "import sys\n",
    "sys.getsizeof(var)"
   ]
  },
  {
   "cell_type": "code",
   "execution_count": 10,
   "id": "c8fca35d-5b11-477b-ae0b-43644ab616e9",
   "metadata": {},
   "outputs": [],
   "source": [
    "# #A variable can have a short name (like x and y) or a more descriptive name.\n",
    "# #A variable name must start with a letter or the underscore (_) character.\n",
    "# #A variable name cannot start with a number.\n",
    "# #A variable name can only contain alpha-numeric characters and underscores (A-Z, 0-9, and _).\n",
    "# #Variable names are case-sensitive (x, X, _ x are three different variable).\n",
    "\n",
    "# Valid Example:\n",
    "# Var = 10\n",
    "# Var2 = 100\n",
    "# var = 20\n",
    "# Var 2=10\n",
    "# Vla2r3 = 30\n",
    "# My_ name = 'Raihan Raaz'\n",
    "\n",
    "# Invalid Example:\n",
    "# 9Var = 'data science'\n",
    "# Var-2 = 'deep learning'\n",
    "# &var = 20\n",
    "# My name = 'Raihan'\n",
    "\n",
    "# Multi Word Variable Name\n",
    "# • camelCaseVar\n",
    "# • PascleCaseVar\n",
    "# • snake_case_var"
   ]
  },
  {
   "cell_type": "code",
   "execution_count": 11,
   "id": "6151388f-68cb-4fc4-911b-3b0c6af208a9",
   "metadata": {},
   "outputs": [],
   "source": [
    "a=100"
   ]
  },
  {
   "cell_type": "code",
   "execution_count": 12,
   "id": "75fe6cea-5230-43f9-a6e0-29192f427df2",
   "metadata": {},
   "outputs": [
    {
     "data": {
      "text/plain": [
       "100"
      ]
     },
     "execution_count": 12,
     "metadata": {},
     "output_type": "execute_result"
    }
   ],
   "source": [
    "a"
   ]
  },
  {
   "cell_type": "code",
   "execution_count": 13,
   "id": "4944d046-c41b-447f-96b2-d6e6a43db778",
   "metadata": {},
   "outputs": [],
   "source": [
    "b=200"
   ]
  },
  {
   "cell_type": "code",
   "execution_count": 14,
   "id": "c2799e25-67a8-4213-b8fc-070b3a47fed4",
   "metadata": {},
   "outputs": [
    {
     "data": {
      "text/plain": [
       "200"
      ]
     },
     "execution_count": 14,
     "metadata": {},
     "output_type": "execute_result"
    }
   ],
   "source": [
    "b"
   ]
  },
  {
   "cell_type": "code",
   "execution_count": 15,
   "id": "e11302da-0b93-4d3c-80af-b7f3a6078a6c",
   "metadata": {},
   "outputs": [],
   "source": [
    "c=100"
   ]
  },
  {
   "cell_type": "code",
   "execution_count": 16,
   "id": "705eb24e-c19a-4b77-a132-3d6e135fd88e",
   "metadata": {},
   "outputs": [
    {
     "data": {
      "text/plain": [
       "100"
      ]
     },
     "execution_count": 16,
     "metadata": {},
     "output_type": "execute_result"
    }
   ],
   "source": [
    "c"
   ]
  },
  {
   "cell_type": "code",
   "execution_count": 17,
   "id": "fbde47b1-eaa1-4b59-b472-ab309d27809f",
   "metadata": {},
   "outputs": [
    {
     "data": {
      "text/plain": [
       "2349741444432"
      ]
     },
     "execution_count": 17,
     "metadata": {},
     "output_type": "execute_result"
    }
   ],
   "source": [
    "id(a)"
   ]
  },
  {
   "cell_type": "code",
   "execution_count": 18,
   "id": "256068e3-0e9a-4514-96ab-ec0073503e45",
   "metadata": {},
   "outputs": [
    {
     "data": {
      "text/plain": [
       "2349741447632"
      ]
     },
     "execution_count": 18,
     "metadata": {},
     "output_type": "execute_result"
    }
   ],
   "source": [
    "id(b)"
   ]
  },
  {
   "cell_type": "code",
   "execution_count": 19,
   "id": "889414f9-12a7-48bc-9261-32fee87bbc1d",
   "metadata": {},
   "outputs": [
    {
     "data": {
      "text/plain": [
       "2349741444432"
      ]
     },
     "execution_count": 19,
     "metadata": {},
     "output_type": "execute_result"
    }
   ],
   "source": [
    "id(c)"
   ]
  },
  {
   "cell_type": "markdown",
   "id": "8271e193-2985-41f8-bcc5-626194ff7474",
   "metadata": {},
   "source": [
    "Multiple Variable"
   ]
  },
  {
   "cell_type": "code",
   "execution_count": 20,
   "id": "e3ad4b97-2de9-4063-a2b4-6dc056f7ba9a",
   "metadata": {},
   "outputs": [],
   "source": [
    "a,b,c=10,100,1000"
   ]
  },
  {
   "cell_type": "code",
   "execution_count": 21,
   "id": "96d16405-7f4b-4fb6-a027-caffdf1002eb",
   "metadata": {},
   "outputs": [
    {
     "data": {
      "text/plain": [
       "10"
      ]
     },
     "execution_count": 21,
     "metadata": {},
     "output_type": "execute_result"
    }
   ],
   "source": [
    "a"
   ]
  },
  {
   "cell_type": "code",
   "execution_count": 22,
   "id": "c7dd5f48-08d9-4e30-b776-62cf2718dc37",
   "metadata": {},
   "outputs": [
    {
     "data": {
      "text/plain": [
       "100"
      ]
     },
     "execution_count": 22,
     "metadata": {},
     "output_type": "execute_result"
    }
   ],
   "source": [
    "b"
   ]
  },
  {
   "cell_type": "code",
   "execution_count": 23,
   "id": "b6dfb395-f9ef-4130-8ecf-c682ff7aceac",
   "metadata": {},
   "outputs": [
    {
     "data": {
      "text/plain": [
       "1000"
      ]
     },
     "execution_count": 23,
     "metadata": {},
     "output_type": "execute_result"
    }
   ],
   "source": [
    "c"
   ]
  },
  {
   "cell_type": "markdown",
   "id": "a2a4e6b2-da8e-4999-9a53-59d8e239e1fe",
   "metadata": {},
   "source": [
    "## Local vs Global Variable"
   ]
  },
  {
   "cell_type": "markdown",
   "id": "d469ab52-4f46-4561-8dbf-b52f646a71f9",
   "metadata": {},
   "source": [
    "Global varibale can be from access anywhere. But if local variable name and global varible name is same then local variable's power is more."
   ]
  },
  {
   "cell_type": "code",
   "execution_count": 24,
   "id": "db0569d7-3306-415b-809d-e2b573489c8e",
   "metadata": {},
   "outputs": [
    {
     "name": "stdout",
     "output_type": "stream",
     "text": [
      "My name is  Raihan Raaz\n",
      "My name is  Raihan Raaz\n"
     ]
    }
   ],
   "source": [
    "name = 'Raihan Raaz' #global variable\n",
    "\n",
    "def function1():\n",
    "    print ('My name is ', name)\n",
    "function1()\n",
    "\n",
    "def function2():\n",
    "    print ('My name is ',name)\n",
    "function2()"
   ]
  },
  {
   "cell_type": "code",
   "execution_count": 25,
   "id": "7d5418d9-239d-44a5-9f92-22417456a4ba",
   "metadata": {},
   "outputs": [
    {
     "name": "stdout",
     "output_type": "stream",
     "text": [
      "My name is  Raihan\n",
      "My name is  Raihan Raaz\n"
     ]
    }
   ],
   "source": [
    "def function1():\n",
    "    name = 'Raihan' #Local Variable\n",
    "    print ('My name is ', name)\n",
    "function1()\n",
    "\n",
    "def function2():\n",
    "    print ('My name is ',name)\n",
    "function2()"
   ]
  },
  {
   "cell_type": "markdown",
   "id": "1cebab39-f52b-4d59-a778-b3c8364f1df9",
   "metadata": {},
   "source": [
    "Local Variable can be declared as a global variable like this:"
   ]
  },
  {
   "cell_type": "code",
   "execution_count": 26,
   "id": "79d51b5c-559d-4d1a-b346-fa938be03785",
   "metadata": {},
   "outputs": [
    {
     "name": "stdout",
     "output_type": "stream",
     "text": [
      "My name is  Raihan\n",
      "My name is  Raihan\n"
     ]
    }
   ],
   "source": [
    "def function1():\n",
    "    global name\n",
    "    name = 'Raihan' #Local Variable\n",
    "    print ('My name is ', name)\n",
    "function1()\n",
    "\n",
    "def function2():\n",
    "    print ('My name is ',name)\n",
    "function2()"
   ]
  },
  {
   "cell_type": "markdown",
   "id": "e15a353a-1821-45b6-bdf1-763994862c11",
   "metadata": {},
   "source": [
    "## input() function"
   ]
  },
  {
   "cell_type": "markdown",
   "id": "3e50819f-e08f-4e0f-a102-a495e2c36d49",
   "metadata": {},
   "source": [
    "The input() method reads a line from input, converts into a string and returns it."
   ]
  },
  {
   "cell_type": "code",
   "execution_count": 27,
   "id": "73410233-6f2f-495d-a89b-6b5fd80c1ee3",
   "metadata": {},
   "outputs": [],
   "source": [
    "name = 'Jahid'"
   ]
  },
  {
   "cell_type": "code",
   "execution_count": 28,
   "id": "b64bf836-9db0-415f-a080-e85128fdfbf0",
   "metadata": {},
   "outputs": [
    {
     "data": {
      "text/plain": [
       "str"
      ]
     },
     "execution_count": 28,
     "metadata": {},
     "output_type": "execute_result"
    }
   ],
   "source": [
    "type(name) #to see variable type"
   ]
  },
  {
   "cell_type": "code",
   "execution_count": 29,
   "id": "b7805727-095e-4b37-8cb5-70349073c626",
   "metadata": {},
   "outputs": [
    {
     "name": "stdin",
     "output_type": "stream",
     "text": [
      " 10\n"
     ]
    }
   ],
   "source": [
    "data = input()"
   ]
  },
  {
   "cell_type": "code",
   "execution_count": 30,
   "id": "543d49ce-daa1-4288-8a82-d6faa879624c",
   "metadata": {},
   "outputs": [
    {
     "data": {
      "text/plain": [
       "'10'"
      ]
     },
     "execution_count": 30,
     "metadata": {},
     "output_type": "execute_result"
    }
   ],
   "source": [
    "data"
   ]
  },
  {
   "cell_type": "code",
   "execution_count": 31,
   "id": "a6b48596-46f9-48e7-be70-6feca58ee34a",
   "metadata": {},
   "outputs": [
    {
     "data": {
      "text/plain": [
       "str"
      ]
     },
     "execution_count": 31,
     "metadata": {},
     "output_type": "execute_result"
    }
   ],
   "source": [
    "type(data)"
   ]
  },
  {
   "cell_type": "code",
   "execution_count": 32,
   "id": "37922ff8-eda1-49f4-b81c-18da3c745d48",
   "metadata": {},
   "outputs": [
    {
     "name": "stdin",
     "output_type": "stream",
     "text": [
      " 10\n",
      " 20\n"
     ]
    }
   ],
   "source": [
    "x=input()\n",
    "y=input()"
   ]
  },
  {
   "cell_type": "code",
   "execution_count": 33,
   "id": "cdadcc1b-0f22-4143-8e72-72e338c2a708",
   "metadata": {},
   "outputs": [
    {
     "data": {
      "text/plain": [
       "'1020'"
      ]
     },
     "execution_count": 33,
     "metadata": {},
     "output_type": "execute_result"
    }
   ],
   "source": [
    "x+y"
   ]
  },
  {
   "cell_type": "code",
   "execution_count": 34,
   "id": "2acb90f5-0940-4507-a02d-49302f2e4177",
   "metadata": {},
   "outputs": [
    {
     "data": {
      "text/plain": [
       "str"
      ]
     },
     "execution_count": 34,
     "metadata": {},
     "output_type": "execute_result"
    }
   ],
   "source": [
    "type(x)"
   ]
  },
  {
   "cell_type": "code",
   "execution_count": 35,
   "id": "99583ea8-c40b-4c20-8eb3-e28c1ed7e35c",
   "metadata": {},
   "outputs": [
    {
     "data": {
      "text/plain": [
       "str"
      ]
     },
     "execution_count": 35,
     "metadata": {},
     "output_type": "execute_result"
    }
   ],
   "source": [
    "type(y)"
   ]
  },
  {
   "cell_type": "markdown",
   "id": "5ac02214-0ceb-4c6e-a880-cbf6ae4e47f9",
   "metadata": {},
   "source": [
    "Default input type is string so we need typecasting"
   ]
  },
  {
   "cell_type": "code",
   "execution_count": 36,
   "id": "aea86342-d31e-49d9-be9a-fdd3af25c261",
   "metadata": {},
   "outputs": [
    {
     "data": {
      "text/plain": [
       "30"
      ]
     },
     "execution_count": 36,
     "metadata": {},
     "output_type": "execute_result"
    }
   ],
   "source": [
    "x=int(x)\n",
    "y=int(y)\n",
    "x+y"
   ]
  },
  {
   "cell_type": "code",
   "execution_count": 37,
   "id": "ad650125-429b-486b-b3f3-b4a1298c33b3",
   "metadata": {},
   "outputs": [
    {
     "data": {
      "text/plain": [
       "int"
      ]
     },
     "execution_count": 37,
     "metadata": {},
     "output_type": "execute_result"
    }
   ],
   "source": [
    "type(x)"
   ]
  },
  {
   "cell_type": "code",
   "execution_count": 38,
   "id": "9ce4286d-4d80-4cdd-bfb5-1373ee29683c",
   "metadata": {},
   "outputs": [
    {
     "data": {
      "text/plain": [
       "int"
      ]
     },
     "execution_count": 38,
     "metadata": {},
     "output_type": "execute_result"
    }
   ],
   "source": [
    "type(y)"
   ]
  },
  {
   "cell_type": "code",
   "execution_count": 39,
   "id": "f41e9f6c-f447-46a6-856d-ee56534b2ab8",
   "metadata": {},
   "outputs": [
    {
     "name": "stdin",
     "output_type": "stream",
     "text": [
      "Enter 1st Number: 10\n"
     ]
    }
   ],
   "source": [
    "num_1=int(input('Enter 1st Number:'))"
   ]
  },
  {
   "cell_type": "code",
   "execution_count": 40,
   "id": "2afbb10b-af05-4c48-9610-49521167c9c4",
   "metadata": {},
   "outputs": [
    {
     "name": "stdin",
     "output_type": "stream",
     "text": [
      "Enter 2nd Number: 20\n"
     ]
    }
   ],
   "source": [
    "num_2=int(input('Enter 2nd Number:'))"
   ]
  },
  {
   "cell_type": "code",
   "execution_count": 41,
   "id": "06bcbd79-d604-4706-8c70-68e44f8bd64c",
   "metadata": {},
   "outputs": [],
   "source": [
    "sum= num_1+num_2"
   ]
  },
  {
   "cell_type": "code",
   "execution_count": 42,
   "id": "cf200dee-05fe-428e-8b0b-fc835382d4e9",
   "metadata": {},
   "outputs": [
    {
     "data": {
      "text/plain": [
       "30"
      ]
     },
     "execution_count": 42,
     "metadata": {},
     "output_type": "execute_result"
    }
   ],
   "source": [
    "sum"
   ]
  },
  {
   "cell_type": "code",
   "execution_count": 43,
   "id": "f31128cc-ec61-448b-a97f-83f0a86edf9c",
   "metadata": {},
   "outputs": [
    {
     "name": "stdin",
     "output_type": "stream",
     "text": [
      "Enter 3rd Number: 30.5\n"
     ]
    }
   ],
   "source": [
    "num_3=float(input('Enter 3rd Number:'))"
   ]
  },
  {
   "cell_type": "code",
   "execution_count": 44,
   "id": "71ceac4f-35df-4c32-b3b1-489037863d54",
   "metadata": {},
   "outputs": [],
   "source": [
    "mul=num_1*num_3"
   ]
  },
  {
   "cell_type": "code",
   "execution_count": 45,
   "id": "49050fb2-127e-4820-a256-e446e4f9979b",
   "metadata": {},
   "outputs": [
    {
     "data": {
      "text/plain": [
       "305.0"
      ]
     },
     "execution_count": 45,
     "metadata": {},
     "output_type": "execute_result"
    }
   ],
   "source": [
    "mul"
   ]
  },
  {
   "cell_type": "markdown",
   "id": "72c03b53-38c0-488a-8d52-93610a9f96ba",
   "metadata": {},
   "source": [
    "type(mul)"
   ]
  }
 ],
 "metadata": {
  "kernelspec": {
   "display_name": "Python 3 (ipykernel)",
   "language": "python",
   "name": "python3"
  },
  "language_info": {
   "codemirror_mode": {
    "name": "ipython",
    "version": 3
   },
   "file_extension": ".py",
   "mimetype": "text/x-python",
   "name": "python",
   "nbconvert_exporter": "python",
   "pygments_lexer": "ipython3",
   "version": "3.10.9"
  },
  "toc-autonumbering": true,
  "toc-showcode": false,
  "toc-showmarkdowntxt": false,
  "toc-showtags": false
 },
 "nbformat": 4,
 "nbformat_minor": 5
}
