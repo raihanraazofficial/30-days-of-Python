{
 "cells": [
  {
   "cell_type": "markdown",
   "id": "eeabb263-f981-4efe-9b0d-529c65f80cf6",
   "metadata": {},
   "source": [
    "# Python Notebook -Day 2"
   ]
  },
  {
   "cell_type": "markdown",
   "id": "69d7818b-93fa-48ed-9d8b-1afb2d2b8eb8",
   "metadata": {},
   "source": [
    "## String"
   ]
  },
  {
   "cell_type": "code",
   "execution_count": 1,
   "id": "d2b09dd9-a569-4b74-8a1d-2227723202cc",
   "metadata": {},
   "outputs": [],
   "source": [
    "data = '30 Days of Python'"
   ]
  },
  {
   "cell_type": "code",
   "execution_count": 2,
   "id": "f291a057-0371-4077-b5ab-13094bd4081a",
   "metadata": {},
   "outputs": [
    {
     "data": {
      "text/plain": [
       "str"
      ]
     },
     "execution_count": 2,
     "metadata": {},
     "output_type": "execute_result"
    }
   ],
   "source": [
    "type(data) #type of variable"
   ]
  },
  {
   "cell_type": "code",
   "execution_count": 3,
   "id": "11ef2820-f210-46f7-8d67-6695b4a0a16e",
   "metadata": {},
   "outputs": [
    {
     "data": {
      "text/plain": [
       "17"
      ]
     },
     "execution_count": 3,
     "metadata": {},
     "output_type": "execute_result"
    }
   ],
   "source": [
    "len(data) #length of variable"
   ]
  },
  {
   "cell_type": "code",
   "execution_count": 4,
   "id": "b4198dd2-0b3c-43ad-ba1b-a656913d697b",
   "metadata": {},
   "outputs": [
    {
     "data": {
      "text/plain": [
       "66"
      ]
     },
     "execution_count": 4,
     "metadata": {},
     "output_type": "execute_result"
    }
   ],
   "source": [
    "import sys \n",
    "sys.getsizeof(data) #size of variable"
   ]
  },
  {
   "cell_type": "code",
   "execution_count": 5,
   "id": "ea18f618-519d-4dde-9047-a27e75e2a08a",
   "metadata": {},
   "outputs": [
    {
     "data": {
      "text/plain": [
       "1"
      ]
     },
     "execution_count": 5,
     "metadata": {},
     "output_type": "execute_result"
    }
   ],
   "source": [
    "data.count('Python') #Returns the number of times a specified value occurs in a string"
   ]
  },
  {
   "cell_type": "code",
   "execution_count": 6,
   "id": "9dcf668d-56ef-448f-ab05-f0a2089f59c1",
   "metadata": {},
   "outputs": [],
   "source": [
    "sub='Days of' #sub string"
   ]
  },
  {
   "cell_type": "code",
   "execution_count": 7,
   "id": "5e192c31-3a82-4b1b-9119-ad997299e193",
   "metadata": {},
   "outputs": [
    {
     "data": {
      "text/plain": [
       "1"
      ]
     },
     "execution_count": 7,
     "metadata": {},
     "output_type": "execute_result"
    }
   ],
   "source": [
    "data.count(sub)"
   ]
  },
  {
   "cell_type": "markdown",
   "id": "430d3861-0119-4682-8193-7dbe816be1a3",
   "metadata": {},
   "source": [
    "## Python string Method|"
   ]
  },
  {
   "cell_type": "raw",
   "id": "25e0b242-cc1b-4042-bb54-6c916d8d5998",
   "metadata": {},
   "source": [
    "Method\tDescription\n",
    "capitalize()\tConverts the first character to upper case\n",
    "casefold()\tConverts string into lower case\n",
    "center()\tReturns a centered string\n",
    "count()\tReturns the number of times a specified value occurs in a string\n",
    "encode()\tReturns an encoded version of the string\n",
    "endswith()\tReturns true if the string ends with the specified value\n",
    "expandtabs()\tSets the tab size of the string\n",
    "find()\tSearches the string for a specified value and returns the position of where it was found\n",
    "format()\tFormats specified values in a string\n",
    "format_map()\tFormats specified values in a string\n",
    "index()\tSearches the string for a specified value and returns the position of where it was found\n",
    "isalnum()\tReturns True if all characters in the string are alphanumeric\n",
    "isalpha()\tReturns True if all characters in the string are in the alphabet\n",
    "isascii()\tReturns True if all characters in the string are ascii characters\n",
    "isdecimal()\tReturns True if all characters in the string are decimals\n",
    "isdigit()\tReturns True if all characters in the string are digits\n",
    "isidentifier()\tReturns True if the string is an identifier\n",
    "islower()\tReturns True if all characters in the string are lower case\n",
    "isnumeric()\tReturns True if all characters in the string are numeric\n",
    "isprintable()\tReturns True if all characters in the string are printable\n",
    "isspace()\tReturns True if all characters in the string are whitespaces\n",
    "istitle()\tReturns True if the string follows the rules of a title\n",
    "isupper()\tReturns True if all characters in the string are upper case\n",
    "join()\tConverts the elements of an iterable into a string\n",
    "ljust()\tReturns a left justified version of the string\n",
    "lower()\tConverts a string into lower case\n",
    "lstrip()\tReturns a left trim version of the string\n",
    "maketrans()\tReturns a translation table to be used in translations\n",
    "partition()\tReturns a tuple where the string is parted into three parts\n",
    "replace()\tReturns a string where a specified value is replaced with a specified value\n",
    "rfind()\tSearches the string for a specified value and returns the last position of where it was found\n",
    "rindex()\tSearches the string for a specified value and returns the last position of where it was found\n",
    "rjust()\tReturns a right justified version of the string\n",
    "rpartition()\tReturns a tuple where the string is parted into three parts\n",
    "rsplit()\tSplits the string at the specified separator, and returns a list\n",
    "rstrip()\tReturns a right trim version of the string\n",
    "split()\tSplits the string at the specified separator, and returns a list\n",
    "splitlines()\tSplits the string at line breaks and returns a list\n",
    "startswith()\tReturns true if the string starts with the specified value\n",
    "strip()\tReturns a trimmed version of the string\n",
    "swapcase()\tSwaps cases, lower case becomes upper case and vice versa\n",
    "title()\tConverts the first character of each word to upper case\n",
    "translate()\tReturns a translated string\n",
    "upper()\tConverts a string into upper case\n",
    "zfill()\tFills the string with a specified number of 0 values at the beginning"
   ]
  },
  {
   "cell_type": "code",
   "execution_count": 8,
   "id": "1d7f8e99-d3eb-4d72-a2cb-32dcd967b6ef",
   "metadata": {},
   "outputs": [
    {
     "data": {
      "text/plain": [
       "8"
      ]
     },
     "execution_count": 8,
     "metadata": {},
     "output_type": "execute_result"
    }
   ],
   "source": [
    "data = '30 Days of Python'\n",
    "data.find('of')"
   ]
  },
  {
   "cell_type": "code",
   "execution_count": 9,
   "id": "46f595ba-df03-43b1-aba8-98b1a54c22d8",
   "metadata": {},
   "outputs": [
    {
     "data": {
      "text/plain": [
       "9"
      ]
     },
     "execution_count": 9,
     "metadata": {},
     "output_type": "execute_result"
    }
   ],
   "source": [
    "data.find('f') #find value from string"
   ]
  },
  {
   "cell_type": "code",
   "execution_count": 10,
   "id": "d3d446c8-26f6-4340-ba76-d67325ee104a",
   "metadata": {},
   "outputs": [
    {
     "data": {
      "text/plain": [
       "-1"
      ]
     },
     "execution_count": 10,
     "metadata": {},
     "output_type": "execute_result"
    }
   ],
   "source": [
    "data.find('y', 6,10)"
   ]
  },
  {
   "cell_type": "code",
   "execution_count": 11,
   "id": "82a289e2-6472-4a62-a325-e309c8e6e641",
   "metadata": {},
   "outputs": [
    {
     "data": {
      "text/plain": [
       "12"
      ]
     },
     "execution_count": 11,
     "metadata": {},
     "output_type": "execute_result"
    }
   ],
   "source": [
    "data.find('y', 6,15)"
   ]
  },
  {
   "cell_type": "code",
   "execution_count": 12,
   "id": "026c33a0-9c22-4f21-96fc-fddfca5b4db6",
   "metadata": {},
   "outputs": [
    {
     "data": {
      "text/plain": [
       "12"
      ]
     },
     "execution_count": 12,
     "metadata": {},
     "output_type": "execute_result"
    }
   ],
   "source": [
    "data.index('y',6,15)"
   ]
  },
  {
   "cell_type": "code",
   "execution_count": 13,
   "id": "d8993a48-910a-4ee6-b84e-4d0e49913c13",
   "metadata": {},
   "outputs": [],
   "source": [
    "#data.index('y', 6,10) #give error in index function. this is the main diff in index and find functioon"
   ]
  },
  {
   "cell_type": "code",
   "execution_count": 14,
   "id": "64533ed2-05aa-4d4d-ae3d-89abba280a8d",
   "metadata": {},
   "outputs": [
    {
     "data": {
      "text/plain": [
       "'30 days of python'"
      ]
     },
     "execution_count": 14,
     "metadata": {},
     "output_type": "execute_result"
    }
   ],
   "source": [
    "data.lower() #convert all char into lower case"
   ]
  },
  {
   "cell_type": "code",
   "execution_count": 15,
   "id": "b57ef3a5-d3da-44ef-b87e-d1e60c04fb92",
   "metadata": {},
   "outputs": [
    {
     "data": {
      "text/plain": [
       "'30 DAYS OF PYTHON'"
      ]
     },
     "execution_count": 15,
     "metadata": {},
     "output_type": "execute_result"
    }
   ],
   "source": [
    "data.upper() #convert all char into upper case"
   ]
  },
  {
   "cell_type": "code",
   "execution_count": 16,
   "id": "29ffe86c-502e-4a60-9269-2ad77c5d5767",
   "metadata": {},
   "outputs": [
    {
     "data": {
      "text/plain": [
       "'30 days of python'"
      ]
     },
     "execution_count": 16,
     "metadata": {},
     "output_type": "execute_result"
    }
   ],
   "source": [
    "data.casefold() #convert all char into lower case"
   ]
  },
  {
   "cell_type": "code",
   "execution_count": 17,
   "id": "73248e99-aecb-4a39-a53d-ba7798ce116c",
   "metadata": {},
   "outputs": [
    {
     "data": {
      "text/plain": [
       "'30 days of python'"
      ]
     },
     "execution_count": 17,
     "metadata": {},
     "output_type": "execute_result"
    }
   ],
   "source": [
    "data.capitalize() #convert first char into lower case"
   ]
  },
  {
   "cell_type": "code",
   "execution_count": 18,
   "id": "9da8adce-6598-4758-885b-fefb960dcb4d",
   "metadata": {},
   "outputs": [],
   "source": [
    "x='Jahid is a Funny boy'"
   ]
  },
  {
   "cell_type": "code",
   "execution_count": 19,
   "id": "07dae966-7e3a-4ec6-8b51-b9bc5ec03104",
   "metadata": {},
   "outputs": [
    {
     "data": {
      "text/plain": [
       "'Jahid is a funny boy'"
      ]
     },
     "execution_count": 19,
     "metadata": {},
     "output_type": "execute_result"
    }
   ],
   "source": [
    "x.capitalize() #convert first char into lower case"
   ]
  },
  {
   "cell_type": "code",
   "execution_count": 20,
   "id": "1c83cdfe-df95-431d-95dd-b2410e48e834",
   "metadata": {},
   "outputs": [
    {
     "data": {
      "text/plain": [
       "'jAHID IS A fUNNY BOY'"
      ]
     },
     "execution_count": 20,
     "metadata": {},
     "output_type": "execute_result"
    }
   ],
   "source": [
    "x.swapcase() # CAPITAL --> small and small-->CAPITAL"
   ]
  },
  {
   "cell_type": "code",
   "execution_count": 21,
   "id": "103629fe-0cc6-42d3-bb31-af43a48a4541",
   "metadata": {},
   "outputs": [
    {
     "data": {
      "text/plain": [
       "'Jahid Is A Funny Boy'"
      ]
     },
     "execution_count": 21,
     "metadata": {},
     "output_type": "execute_result"
    }
   ],
   "source": [
    "x.title() #convert first char of every word into upper case"
   ]
  },
  {
   "cell_type": "code",
   "execution_count": 22,
   "id": "79fb2245-d0a9-45c0-808f-e719fc42fedf",
   "metadata": {},
   "outputs": [
    {
     "data": {
      "text/plain": [
       "False"
      ]
     },
     "execution_count": 22,
     "metadata": {},
     "output_type": "execute_result"
    }
   ],
   "source": [
    "x.isupper()"
   ]
  },
  {
   "cell_type": "code",
   "execution_count": 23,
   "id": "713b73fa-1fe3-4b36-9fe3-bdd42d26d829",
   "metadata": {},
   "outputs": [
    {
     "data": {
      "text/plain": [
       "False"
      ]
     },
     "execution_count": 23,
     "metadata": {},
     "output_type": "execute_result"
    }
   ],
   "source": [
    "x.islower()"
   ]
  },
  {
   "cell_type": "code",
   "execution_count": 24,
   "id": "ee022125-e89b-4efe-9fdf-9fcfba4ffb54",
   "metadata": {},
   "outputs": [
    {
     "data": {
      "text/plain": [
       "False"
      ]
     },
     "execution_count": 24,
     "metadata": {},
     "output_type": "execute_result"
    }
   ],
   "source": [
    "x.isdigit()"
   ]
  },
  {
   "cell_type": "code",
   "execution_count": 25,
   "id": "46d43651-605f-4bd1-b341-98016389bf8c",
   "metadata": {},
   "outputs": [
    {
     "data": {
      "text/plain": [
       "False"
      ]
     },
     "execution_count": 25,
     "metadata": {},
     "output_type": "execute_result"
    }
   ],
   "source": [
    "data.isdigit()"
   ]
  },
  {
   "cell_type": "code",
   "execution_count": 26,
   "id": "caf41d1e-6f82-4b72-a99a-9df22190feb0",
   "metadata": {},
   "outputs": [
    {
     "data": {
      "text/plain": [
       "b'Jahid is a Funny boy'"
      ]
     },
     "execution_count": 26,
     "metadata": {},
     "output_type": "execute_result"
    }
   ],
   "source": [
    "x.encode()"
   ]
  },
  {
   "cell_type": "code",
   "execution_count": 27,
   "id": "67d1423f-81e3-4fee-b7a2-464eaf696c68",
   "metadata": {},
   "outputs": [
    {
     "data": {
      "text/plain": [
       "bytes"
      ]
     },
     "execution_count": 27,
     "metadata": {},
     "output_type": "execute_result"
    }
   ],
   "source": [
    "type(x.encode())"
   ]
  },
  {
   "cell_type": "code",
   "execution_count": 28,
   "id": "d6b53bd8-20a3-4a94-b9f8-1e2f5a2048ec",
   "metadata": {},
   "outputs": [
    {
     "data": {
      "text/plain": [
       "['Jahid', 'is', 'a', 'Funny', 'boy']"
      ]
     },
     "execution_count": 28,
     "metadata": {},
     "output_type": "execute_result"
    }
   ],
   "source": [
    "x.split()"
   ]
  },
  {
   "cell_type": "code",
   "execution_count": 29,
   "id": "0671daca-2941-48c2-94f1-a600c359e1d8",
   "metadata": {},
   "outputs": [
    {
     "data": {
      "text/plain": [
       "'Jahid'"
      ]
     },
     "execution_count": 29,
     "metadata": {},
     "output_type": "execute_result"
    }
   ],
   "source": [
    "x.split()[0]"
   ]
  },
  {
   "cell_type": "code",
   "execution_count": 30,
   "id": "95f9c35f-10be-44b1-bbc0-93e62723d2ac",
   "metadata": {},
   "outputs": [
    {
     "data": {
      "text/plain": [
       "'a'"
      ]
     },
     "execution_count": 30,
     "metadata": {},
     "output_type": "execute_result"
    }
   ],
   "source": [
    "x.split()[2]"
   ]
  },
  {
   "cell_type": "code",
   "execution_count": 31,
   "id": "30ccb54f-06ad-488a-aeb8-0015c45fff70",
   "metadata": {},
   "outputs": [
    {
     "data": {
      "text/plain": [
       "'   Jahid is a Funny boy  '"
      ]
     },
     "execution_count": 31,
     "metadata": {},
     "output_type": "execute_result"
    }
   ],
   "source": [
    "x.center(25)"
   ]
  },
  {
   "cell_type": "code",
   "execution_count": 32,
   "id": "7f6f20fa-07e5-4e63-b36a-986114292d72",
   "metadata": {},
   "outputs": [
    {
     "data": {
      "text/plain": [
       "'Jahid is a Funny girl'"
      ]
     },
     "execution_count": 32,
     "metadata": {},
     "output_type": "execute_result"
    }
   ],
   "source": [
    "x.replace('boy','girl')"
   ]
  },
  {
   "cell_type": "code",
   "execution_count": 33,
   "id": "ceeb1b99-80aa-4f06-ae2e-ddf7c9f74575",
   "metadata": {},
   "outputs": [],
   "source": [
    "x=10\n",
    "y=30\n",
    "z=10*30"
   ]
  },
  {
   "cell_type": "code",
   "execution_count": 34,
   "id": "0ac2c291-4a3d-460f-bc52-e13badad74d3",
   "metadata": {},
   "outputs": [
    {
     "name": "stdout",
     "output_type": "stream",
     "text": [
      "I have  300 taka\n"
     ]
    }
   ],
   "source": [
    "print(\"I have \",z,\"taka\")"
   ]
  },
  {
   "cell_type": "code",
   "execution_count": 35,
   "id": "aa628738-eace-4828-95e1-23d0faa4e1d4",
   "metadata": {},
   "outputs": [
    {
     "name": "stdout",
     "output_type": "stream",
     "text": [
      "I have 300 taka\n"
     ]
    }
   ],
   "source": [
    "print('I have {} taka'.format(z)) #format function"
   ]
  }
 ],
 "metadata": {
  "kernelspec": {
   "display_name": "Python 3 (ipykernel)",
   "language": "python",
   "name": "python3"
  },
  "language_info": {
   "codemirror_mode": {
    "name": "ipython",
    "version": 3
   },
   "file_extension": ".py",
   "mimetype": "text/x-python",
   "name": "python",
   "nbconvert_exporter": "python",
   "pygments_lexer": "ipython3",
   "version": "3.10.9"
  }
 },
 "nbformat": 4,
 "nbformat_minor": 5
}
